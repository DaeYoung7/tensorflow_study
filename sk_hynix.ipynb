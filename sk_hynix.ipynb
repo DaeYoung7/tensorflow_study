{
 "cells": [
  {
   "cell_type": "code",
   "execution_count": 1,
   "metadata": {},
   "outputs": [],
   "source": [
    "import pandas as pd\n",
    "import urllib.request as req\n",
    "from bs4 import BeautifulSoup\n",
    "import matplotlib.pyplot as plt\n",
    "import numpy as np\n",
    "import tensorflow as tf\n",
    "import re"
   ]
  },
  {
   "cell_type": "code",
   "execution_count": null,
   "metadata": {
    "scrolled": false
   },
   "outputs": [],
   "source": [
    "sk_data=[]\n",
    "day=[]\n",
    "cond1={\"class\":\"tah p10 gray03\"}\n",
    "cond2={\"class\":\"tah p11\"}\n",
    "\n",
    "for i in range(400):\n",
    "    url=\"https://finance.naver.com/item/sise_day.nhn?code=000660&page=\"+str(i+1)\n",
    "    res=req.urlopen(url)\n",
    "    soup=BeautifulSoup(res,\"html.parser\")\n",
    "\n",
    "    a1=soup.find_all(\"span\",cond1)\n",
    "    a2=soup.find_all(\"span\",cond2)\n",
    "    for t in a1:\n",
    "        day.append(int(t.string.replace('.','')))\n",
    "    for t in a2:\n",
    "        if t.string!='0':\n",
    "            sk_data.append(int(t.string.replace(',','')))\n",
    "\n",
    "sk_data=np.hstack([np.array(day).reshape(-1,1),np.array(sk_data).reshape(-1,5)])"
   ]
  },
  {
   "cell_type": "code",
   "execution_count": null,
   "metadata": {},
   "outputs": [],
   "source": [
    "sk_data_t=sk_data"
   ]
  },
  {
   "cell_type": "code",
   "execution_count": null,
   "metadata": {},
   "outputs": [],
   "source": [
    "df=pd.DataFrame(sk_data_t,columns=['date','close','open','high','low','volumn'])\n",
    "df.to_csv(\"sk_hynix.csv\",header=True,index=False)"
   ]
  },
  {
   "cell_type": "code",
   "execution_count": 2,
   "metadata": {},
   "outputs": [
    {
     "data": {
      "text/html": [
       "<div>\n",
       "<style scoped>\n",
       "    .dataframe tbody tr th:only-of-type {\n",
       "        vertical-align: middle;\n",
       "    }\n",
       "\n",
       "    .dataframe tbody tr th {\n",
       "        vertical-align: top;\n",
       "    }\n",
       "\n",
       "    .dataframe thead th {\n",
       "        text-align: right;\n",
       "    }\n",
       "</style>\n",
       "<table border=\"1\" class=\"dataframe\">\n",
       "  <thead>\n",
       "    <tr style=\"text-align: right;\">\n",
       "      <th></th>\n",
       "      <th>close</th>\n",
       "      <th>open</th>\n",
       "      <th>high</th>\n",
       "      <th>low</th>\n",
       "      <th>volumn</th>\n",
       "    </tr>\n",
       "  </thead>\n",
       "  <tbody>\n",
       "    <tr>\n",
       "      <th>3995</th>\n",
       "      <td>6160</td>\n",
       "      <td>6320</td>\n",
       "      <td>6560</td>\n",
       "      <td>5910</td>\n",
       "      <td>40876521</td>\n",
       "    </tr>\n",
       "    <tr>\n",
       "      <th>3996</th>\n",
       "      <td>6320</td>\n",
       "      <td>5900</td>\n",
       "      <td>6750</td>\n",
       "      <td>5730</td>\n",
       "      <td>64117923</td>\n",
       "    </tr>\n",
       "    <tr>\n",
       "      <th>3997</th>\n",
       "      <td>5950</td>\n",
       "      <td>5330</td>\n",
       "      <td>5950</td>\n",
       "      <td>5330</td>\n",
       "      <td>55326942</td>\n",
       "    </tr>\n",
       "    <tr>\n",
       "      <th>3998</th>\n",
       "      <td>5180</td>\n",
       "      <td>5800</td>\n",
       "      <td>5960</td>\n",
       "      <td>5180</td>\n",
       "      <td>43046920</td>\n",
       "    </tr>\n",
       "    <tr>\n",
       "      <th>3999</th>\n",
       "      <td>6090</td>\n",
       "      <td>5900</td>\n",
       "      <td>6420</td>\n",
       "      <td>5650</td>\n",
       "      <td>56158263</td>\n",
       "    </tr>\n",
       "  </tbody>\n",
       "</table>\n",
       "</div>"
      ],
      "text/plain": [
       "      close  open  high   low    volumn\n",
       "3995   6160  6320  6560  5910  40876521\n",
       "3996   6320  5900  6750  5730  64117923\n",
       "3997   5950  5330  5950  5330  55326942\n",
       "3998   5180  5800  5960  5180  43046920\n",
       "3999   6090  5900  6420  5650  56158263"
      ]
     },
     "execution_count": 2,
     "metadata": {},
     "output_type": "execute_result"
    }
   ],
   "source": [
    "df=pd.read_csv(\"sk_hynix.csv\")\n",
    "df.drop(\"date\",axis=1,inplace=True)\n",
    "df.tail()"
   ]
  },
  {
   "cell_type": "code",
   "execution_count": 3,
   "metadata": {},
   "outputs": [
    {
     "data": {
      "text/plain": [
       "[<matplotlib.lines.Line2D at 0x2353193ca90>]"
      ]
     },
     "execution_count": 3,
     "metadata": {},
     "output_type": "execute_result"
    },
    {
     "data": {
      "image/png": "[encoded data removed]",
      "text/plain": [
       "<Figure size 432x288 with 1 Axes>"
      ]
     },
     "metadata": {},
     "output_type": "display_data"
    }
   ],
   "source": [
    "def MinMaxScaler(data):\n",
    "    numerator=data-np.min(data)\n",
    "    denominator=np.max(data)-np.min(data)\n",
    "    return numerator/denominator\n",
    "\n",
    "timesteps=7\n",
    "input_dim=5\n",
    "output_dim=1\n",
    "\n",
    "xy=np.array(df)[::-1]\n",
    "# xy=MinMaxScaler(xy)\n",
    "\n",
    "dataX=[]\n",
    "dataY=[]\n",
    "for i in range(len(xy)-timesteps):\n",
    "    dataX.append(xy[i:i+timesteps])\n",
    "    dataY.append(xy[i+timesteps,[0]])\n",
    "\n",
    "train_num=int(len(xy)*0.7)\n",
    "train_x=np.array(dataX[:train_num])\n",
    "train_y=np.array(dataY[:train_num])\n",
    "test_x=np.array(dataX[train_num:])\n",
    "test_y=np.array(dataY[train_num:])\n",
    "\n",
    "plt.plot(test_y)"
   ]
  },
  {
   "cell_type": "code",
   "execution_count": null,
   "metadata": {},
   "outputs": [],
   "source": []
  }
 ],
 "metadata": {
  "kernelspec": {
   "display_name": "Python 3",
   "language": "python",
   "name": "python3"
  },
  "language_info": {
   "codemirror_mode": {
    "name": "ipython",
    "version": 3
   },
   "file_extension": ".py",
   "mimetype": "text/x-python",
   "name": "python",
   "nbconvert_exporter": "python",
   "pygments_lexer": "ipython3",
   "version": "3.6.8"
  }
 },
 "nbformat": 4,
 "nbformat_minor": 2
}
