{
 "cells": [
  {
   "cell_type": "code",
   "execution_count": 2,
   "metadata": {},
   "outputs": [],
   "source": [
    "import tensorflow as tf\n",
    "import matplotlib.pyplot as plt\n",
    "import numpy as np"
   ]
  },
  {
   "cell_type": "code",
   "execution_count": 13,
   "metadata": {},
   "outputs": [
    {
     "name": "stdout",
     "output_type": "stream",
     "text": [
      "WARNING:tensorflow:From C:\\Anaconda3\\lib\\site-packages\\tensorflow\\python\\training\\input.py:751: QueueRunner.__init__ (from tensorflow.python.training.queue_runner_impl) is deprecated and will be removed in a future version.\n",
      "Instructions for updating:\n",
      "To construct input pipelines, use the `tf.data` module.\n",
      "WARNING:tensorflow:From C:\\Anaconda3\\lib\\site-packages\\tensorflow\\python\\training\\input.py:751: add_queue_runner (from tensorflow.python.training.queue_runner_impl) is deprecated and will be removed in a future version.\n",
      "Instructions for updating:\n",
      "To construct input pipelines, use the `tf.data` module.\n"
     ]
    },
    {
     "ename": "AttributeError",
     "evalue": "'list' object has no attribute 'eval'",
     "output_type": "error",
     "traceback": [
      "\u001b[1;31m---------------------------------------------------------------------------\u001b[0m",
      "\u001b[1;31mAttributeError\u001b[0m                            Traceback (most recent call last)",
      "\u001b[1;32m<ipython-input-13-5856dad79e19>\u001b[0m in \u001b[0;36m<module>\u001b[1;34m()\u001b[0m\n\u001b[0;32m      5\u001b[0m \u001b[0msess\u001b[0m\u001b[1;33m=\u001b[0m\u001b[0mtf\u001b[0m\u001b[1;33m.\u001b[0m\u001b[0mSession\u001b[0m\u001b[1;33m(\u001b[0m\u001b[1;33m)\u001b[0m\u001b[1;33m\u001b[0m\u001b[1;33m\u001b[0m\u001b[0m\n\u001b[0;32m      6\u001b[0m \u001b[1;32mfor\u001b[0m \u001b[0mi\u001b[0m \u001b[1;32min\u001b[0m \u001b[0mrange\u001b[0m\u001b[1;33m(\u001b[0m\u001b[1;36m10\u001b[0m\u001b[1;33m)\u001b[0m\u001b[1;33m:\u001b[0m\u001b[1;33m\u001b[0m\u001b[1;33m\u001b[0m\u001b[0m\n\u001b[1;32m----> 7\u001b[1;33m     \u001b[0mx_batch\u001b[0m\u001b[1;33m=\u001b[0m\u001b[0mtf\u001b[0m\u001b[1;33m.\u001b[0m\u001b[0mtrain\u001b[0m\u001b[1;33m.\u001b[0m\u001b[0mbatch\u001b[0m\u001b[1;33m(\u001b[0m\u001b[0mX_train\u001b[0m\u001b[1;33m,\u001b[0m\u001b[0mbatch_size\u001b[0m\u001b[1;33m=\u001b[0m\u001b[1;36m5\u001b[0m\u001b[1;33m)\u001b[0m\u001b[1;33m.\u001b[0m\u001b[0meval\u001b[0m\u001b[1;33m(\u001b[0m\u001b[0msess\u001b[0m\u001b[1;33m)\u001b[0m\u001b[1;33m\u001b[0m\u001b[1;33m\u001b[0m\u001b[0m\n\u001b[0m\u001b[0;32m      8\u001b[0m     \u001b[0mprint\u001b[0m\u001b[1;33m(\u001b[0m\u001b[0mx_batch\u001b[0m\u001b[1;33m)\u001b[0m\u001b[1;33m\u001b[0m\u001b[1;33m\u001b[0m\u001b[0m\n",
      "\u001b[1;31mAttributeError\u001b[0m: 'list' object has no attribute 'eval'"
     ]
    }
   ],
   "source": [
    "from keras.datasets import cifar10\n",
    "\n",
    "(X_train, y_train), (X_test, y_test) = cifar10.load_data()\n",
    "X_train=list(X_train)\n",
    "sess=tf.Session()\n",
    "for i in range(10):\n",
    "    x_batch=tf.train.batch(X_train,batch_size=5).eval(sess)\n",
    "    print(x_batch)"
   ]
  },
  {
   "cell_type": "code",
   "execution_count": 2,
   "metadata": {},
   "outputs": [
    {
     "name": "stdout",
     "output_type": "stream",
     "text": [
      "cost:  28.507823848724367\n",
      "cost:  2.790049457550049\n",
      "cost:  2.7609289646148683\n",
      "cost:  2.7295395851135256\n",
      "cost:  2.6981127738952635\n",
      "cost:  2.667583179473877\n",
      "cost:  2.6384212017059325\n",
      "cost:  2.610879516601563\n",
      "cost:  2.5850663661956785\n",
      "cost:  2.561029624938965\n",
      "cost:  2.5387156009674072\n",
      "cost:  2.518111753463745\n",
      "cost:  2.499084663391113\n",
      "cost:  2.481599760055542\n",
      "cost:  2.465517663955689\n",
      "accuracy= 0.1\n"
     ]
    }
   ],
   "source": [
    "#cifar10 실습\n",
    "def unpickle(file):\n",
    "    import pickle\n",
    "    with open(file, 'rb') as fo:\n",
    "        dict = pickle.load(fo, encoding='bytes')\n",
    "    return dict\n",
    "train_x_list=[]\n",
    "train_y_list=[]\n",
    "for i in range(1,6):\n",
    "    a=unpickle(\"cifar-10-batches-py/data_batch_\"+str(i))\n",
    "    train_x_list.append(np.array(a[b'data']))\n",
    "    train_y_list.append(np.array(a[b'labels']).reshape(-1,1))\n",
    "test=unpickle(\"cifar-10-batches-py/test_batch\")\n",
    "test_x=np.array(test[b'data'])\n",
    "#test_x=np.array(train_x_list).flatten('C').reshape(-1,3072).shape\n",
    "test_y=np.array(test[b'labels']).reshape(-1,1)\n",
    "\n",
    "keep_prob=tf.placeholder(tf.float32)\n",
    "\n",
    "X=tf.placeholder(tf.float32,[None,3072])\n",
    "X_img=tf.reshape(X,[-1,32,32,3])\n",
    "Y=tf.placeholder(tf.int32,[None,1])\n",
    "Y_one_hot=tf.one_hot(Y,10)\n",
    "Y_one_hot=tf.reshape(Y_one_hot,[-1,10])\n",
    "\n",
    "W1=tf.Variable(tf.random_normal([3,3,3,32],stddev=0.01))\n",
    "L1=tf.nn.conv2d(X_img,W1,strides=[1,1,1,1],padding='SAME')\n",
    "L1=tf.nn.relu(L1)\n",
    "L1=tf.nn.max_pool(L1,ksize=[1,2,2,1],strides=[1,2,2,1],padding='SAME')\n",
    "L1=tf.nn.dropout(L1,keep_prob=keep_prob)\n",
    "\n",
    "W2=tf.Variable(tf.random_normal([3,3,32,64],stddev=0.01))\n",
    "L2=tf.nn.conv2d(L1,W2,strides=[1,1,1,1],padding='SAME')\n",
    "L2=tf.nn.relu(L2)\n",
    "L2=tf.nn.max_pool(L2,ksize=[1,2,2,1],strides=[1,2,2,1],padding='SAME')\n",
    "L2=tf.nn.dropout(L2,keep_prob=keep_prob)\n",
    "\n",
    "W3=tf.Variable(tf.random_normal([3,3,64,128],stddev=0.01))\n",
    "L3=tf.nn.conv2d(L2,W3,strides=[1,1,1,1],padding='SAME')\n",
    "L3=tf.nn.relu(L3)\n",
    "L3=tf.nn.max_pool(L3,ksize=[1,2,2,1],strides=[1,2,2,1],padding='SAME')\n",
    "L3=tf.nn.dropout(L3,keep_prob=keep_prob)\n",
    "L3=tf.reshape(L3,[-1,4*4*128])\n",
    "\n",
    "W4=tf.get_variable(\"W4\",shape=[4*4*128,10],initializer=tf.contrib.layers.xavier_initializer())\n",
    "B=tf.Variable(tf.random_normal([10]))\n",
    "L4=tf.matmul(L3,W4)+B\n",
    "cost=tf.reduce_mean(tf.nn.softmax_cross_entropy_with_logits_v2(logits=L4,labels=Y_one_hot))\n",
    "optimizer=tf.train.AdamOptimizer(0.01).minimize(cost)\n",
    "\n",
    "is_correct=tf.equal(tf.argmax(L4,1),tf.argmax(Y_one_hot,1))\n",
    "accuracy=tf.reduce_mean(tf.cast(is_correct,tf.float32))\n",
    "with tf.Session() as sess:\n",
    "    sess.run(tf.global_variables_initializer())\n",
    "    for i in range(15):\n",
    "        avg_cost=0\n",
    "        for m,n in zip(train_x_list,train_y_list):\n",
    "            c,_=sess.run([cost,optimizer],feed_dict={X:m,Y:n,keep_prob:0.7})\n",
    "            avg_cost+=c/5\n",
    "        print(\"cost: \",avg_cost)\n",
    "    a=sess.run(accuracy,feed_dict={X:test_x,Y:test_y,keep_prob:1})\n",
    "    print('accuracy=',a)"
   ]
  },
  {
   "cell_type": "code",
   "execution_count": null,
   "metadata": {},
   "outputs": [],
   "source": []
  }
 ],
 "metadata": {
  "kernelspec": {
   "display_name": "Python 3",
   "language": "python",
   "name": "python3"
  },
  "language_info": {
   "codemirror_mode": {
    "name": "ipython",
    "version": 3
   },
   "file_extension": ".py",
   "mimetype": "text/x-python",
   "name": "python",
   "nbconvert_exporter": "python",
   "pygments_lexer": "ipython3",
   "version": "3.6.8"
  }
 },
 "nbformat": 4,
 "nbformat_minor": 2
}
