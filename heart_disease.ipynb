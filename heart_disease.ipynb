{
 "cells": [
  {
   "cell_type": "code",
   "execution_count": 1,
   "metadata": {},
   "outputs": [],
   "source": [
    "import tensorflow as tf\n",
    "import matplotlib.pyplot as plt\n",
    "import numpy as np\n",
    "import csv\n",
    "import pandas as pd"
   ]
  },
  {
   "cell_type": "code",
   "execution_count": 2,
   "metadata": {},
   "outputs": [
    {
     "name": "stdout",
     "output_type": "stream",
     "text": [
      "(303, 14)\n",
      "(102, 1)\n"
     ]
    }
   ],
   "source": [
    "f=open(\"heart.csv\",'r')\n",
    "lines=csv.reader(f)\n",
    "total_data=[]\n",
    "for line in lines:\n",
    "    total_data.append(line)\n",
    "total_data=np.array(total_data[1:])\n",
    "np.random.shuffle(total_data)\n",
    "print(total_data.shape)\n",
    "x_train_data=total_data[:201,:-1]\n",
    "y_train_data=total_data[:201,[-1]]\n",
    "x_test_data=total_data[201:,:-1]\n",
    "y_test_data=np.array(total_data[201:,[-1]])\n",
    "print(y_test_data.shape)\n",
    "f.close()"
   ]
  },
  {
   "cell_type": "code",
   "execution_count": 3,
   "metadata": {
    "scrolled": true
   },
   "outputs": [
    {
     "name": "stdout",
     "output_type": "stream",
     "text": [
      "step: %04d 0 \tcost:  11.742609\n",
      "step: %04d 100 \tcost:  0.8092829\n",
      "step: %04d 200 \tcost:  0.6891297\n",
      "step: %04d 300 \tcost:  0.595792\n",
      "step: %04d 400 \tcost:  0.60999817\n",
      "step: %04d 500 \tcost:  0.5887318\n",
      "step: %04d 600 \tcost:  0.54721475\n",
      "step: %04d 700 \tcost:  0.5097417\n",
      "step: %04d 800 \tcost:  0.45516312\n",
      "step: %04d 900 \tcost:  0.3981873\n",
      "step: %04d 1000 \tcost:  0.41985184\n",
      "step: %04d 1100 \tcost:  0.40514544\n",
      "step: %04d 1200 \tcost:  0.35522243\n",
      "step: %04d 1300 \tcost:  0.33544406\n",
      "step: %04d 1400 \tcost:  0.33954707\n",
      "step: %04d 1500 \tcost:  0.34125146\n",
      "step: %04d 1600 \tcost:  0.3035061\n",
      "step: %04d 1700 \tcost:  0.30318716\n",
      "step: %04d 1800 \tcost:  0.28378457\n",
      "step: %04d 1900 \tcost:  0.25473636\n",
      "step: %04d 2000 \tcost:  0.19402926\n",
      "step: %04d 2100 \tcost:  0.2174185\n",
      "step: %04d 2200 \tcost:  0.13288058\n",
      "step: %04d 2300 \tcost:  0.115379915\n",
      "step: %04d 2400 \tcost:  0.109318405\n",
      "step: %04d 2500 \tcost:  0.1019921\n",
      "step: %04d 2600 \tcost:  0.061833333\n",
      "step: %04d 2700 \tcost:  0.09196635\n",
      "step: %04d 2800 \tcost:  0.050226726\n",
      "step: %04d 2900 \tcost:  0.0655935\n",
      "step: %04d 3000 \tcost:  0.063432984\n",
      "step: %04d 3100 \tcost:  0.038788334\n",
      "step: %04d 3200 \tcost:  0.041487627\n",
      "step: %04d 3300 \tcost:  0.042046234\n",
      "step: %04d 3400 \tcost:  0.013078839\n",
      "step: %04d 3500 \tcost:  0.022338722\n",
      "step: %04d 3600 \tcost:  0.007036875\n",
      "step: %04d 3700 \tcost:  0.038074635\n",
      "step: %04d 3800 \tcost:  0.020248592\n",
      "step: %04d 3900 \tcost:  0.013401188\n",
      "step: %04d 4000 \tcost:  0.0051182234\n",
      "accuracy=  0.8235294\n"
     ]
    }
   ],
   "source": [
    "#82.35%\n",
    "X=tf.placeholder(tf.float32,[None,13])\n",
    "Y=tf.placeholder(tf.int32,[None,1])\n",
    "Y_one_hot=tf.one_hot(Y,2)\n",
    "Y_one_hot=tf.reshape(Y_one_hot,[-1,2])\n",
    "keep_prob=tf.placeholder(tf.float32)\n",
    "\n",
    "W1=tf.get_variable(\"W1\",[13,500],initializer=tf.contrib.layers.xavier_initializer())\n",
    "B1=tf.Variable(tf.random_normal([500]))\n",
    "L1=tf.nn.relu(tf.matmul(X,W1)+B1)\n",
    "L1=tf.nn.dropout(L1,keep_prob=keep_prob)\n",
    "\n",
    "W2=tf.get_variable(\"W2\",[500,500],initializer=tf.contrib.layers.xavier_initializer())\n",
    "B2=tf.Variable(tf.random_normal([500]))\n",
    "L2=tf.nn.relu(tf.matmul(L1,W2)+B2)\n",
    "L2=tf.nn.dropout(L2,keep_prob=keep_prob)\n",
    "\n",
    "W3=tf.get_variable(\"W3\",[500,500],initializer=tf.contrib.layers.xavier_initializer())\n",
    "B3=tf.Variable(tf.random_normal([500]))\n",
    "L3=tf.nn.relu(tf.matmul(L2,W3)+B3)\n",
    "L3=tf.nn.dropout(L3,keep_prob=keep_prob)\n",
    "\n",
    "W4=tf.get_variable(\"W4\",[500,500],initializer=tf.contrib.layers.xavier_initializer())\n",
    "B4=tf.Variable(tf.random_normal([500]))\n",
    "L4=tf.nn.relu(tf.matmul(L3,W4)+B4)\n",
    "L4=tf.nn.dropout(L4,keep_prob=keep_prob)\n",
    "\n",
    "W5=tf.get_variable(\"W5\",[500,500],initializer=tf.contrib.layers.xavier_initializer())\n",
    "B5=tf.Variable(tf.random_normal([500]))\n",
    "L5=tf.nn.relu(tf.matmul(L4,W5)+B5)\n",
    "L5=tf.nn.dropout(L5,keep_prob=keep_prob)\n",
    "\n",
    "W6=tf.get_variable(\"W6\",[500,2],initializer=tf.contrib.layers.xavier_initializer())\n",
    "B6=tf.Variable(tf.random_normal([2]))\n",
    "L6=tf.matmul(L5,W6)+B6\n",
    "\n",
    "cost=tf.reduce_mean(tf.nn.softmax_cross_entropy_with_logits_v2(logits=L6,labels=Y_one_hot))\n",
    "optimizer=tf.train.AdamOptimizer(0.0005).minimize(cost)\n",
    "\n",
    "is_correct=tf.equal(tf.argmax(L6,1),tf.argmax(Y_one_hot,1))\n",
    "accuracy=tf.reduce_mean(tf.cast(is_correct,tf.float32))\n",
    "\n",
    "with tf.Session() as sess:\n",
    "    sess.run(tf.global_variables_initializer())\n",
    "    for step in range(4001):\n",
    "        c,_=sess.run([cost,optimizer],feed_dict={X:x_train_data,Y:y_train_data,keep_prob:0.7})\n",
    "        if step%100==0:\n",
    "            print(\"step: %04d\",step,\"\\tcost: \",c)\n",
    "    a=sess.run(accuracy,feed_dict={X:x_test_data,Y:y_test_data,keep_prob:1})\n",
    "    print(\"accuracy= \",a)"
   ]
  },
  {
   "cell_type": "code",
   "execution_count": null,
   "metadata": {
    "scrolled": true
   },
   "outputs": [],
   "source": []
  },
  {
   "cell_type": "code",
   "execution_count": null,
   "metadata": {},
   "outputs": [],
   "source": []
  }
 ],
 "metadata": {
  "kernelspec": {
   "display_name": "Python 3",
   "language": "python",
   "name": "python3"
  },
  "language_info": {
   "codemirror_mode": {
    "name": "ipython",
    "version": 3
   },
   "file_extension": ".py",
   "mimetype": "text/x-python",
   "name": "python",
   "nbconvert_exporter": "python",
   "pygments_lexer": "ipython3",
   "version": "3.6.8"
  }
 },
 "nbformat": 4,
 "nbformat_minor": 2
}
